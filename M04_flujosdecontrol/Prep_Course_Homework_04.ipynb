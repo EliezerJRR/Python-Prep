{
 "cells": [
  {
   "attachments": {},
   "cell_type": "markdown",
   "metadata": {},
   "source": [
    "## Flujos de Control"
   ]
  },
  {
   "attachments": {},
   "cell_type": "markdown",
   "metadata": {},
   "source": [
    "1) Crear una variable que contenga un elemento del conjunto de números enteros y luego imprimir por pantalla si es mayor o menor a cero"
   ]
  },
  {
   "cell_type": "code",
   "execution_count": 4,
   "metadata": {},
   "outputs": [
    {
     "name": "stdout",
     "output_type": "stream",
     "text": [
      "el numero es menor o igual que cero\n"
     ]
    }
   ],
   "source": [
    "x = 0\n",
    "\n",
    "if x>0:\n",
    "    print('el numero es mayor que cero')\n",
    "else:\n",
    "    print('el numero es menor o igual que cero')"
   ]
  },
  {
   "attachments": {},
   "cell_type": "markdown",
   "metadata": {},
   "source": [
    "2) Crear dos variables y un condicional que informe si son del mismo tipo de dato"
   ]
  },
  {
   "cell_type": "code",
   "execution_count": 5,
   "metadata": {},
   "outputs": [
    {
     "name": "stdout",
     "output_type": "stream",
     "text": [
      "es el mismo tipo de dato\n"
     ]
    }
   ],
   "source": [
    "y = 0\n",
    "tipoa = type(x)\n",
    "tipob = type(y)\n",
    "\n",
    "if tipoa == tipob:\n",
    "    print(f'es el mismo tipo de dato')\n",
    "else:\n",
    "    print('no es el mismo tipo de dato')\n"
   ]
  },
  {
   "attachments": {},
   "cell_type": "markdown",
   "metadata": {},
   "source": [
    "3) Para los valores enteros del 1 al 20, imprimir por pantalla si es par o impar"
   ]
  },
  {
   "cell_type": "code",
   "execution_count": 8,
   "metadata": {},
   "outputs": [
    {
     "name": "stdout",
     "output_type": "stream",
     "text": [
      "evaluando 1 \n",
      " el nro: 1 es impar\n",
      "evaluando 2 \n",
      " el nro: 2 es par\n",
      "evaluando 3 \n",
      " el nro: 3 es impar\n",
      "evaluando 4 \n",
      " el nro: 4 es par\n",
      "evaluando 5 \n",
      " el nro: 5 es impar\n",
      "evaluando 6 \n",
      " el nro: 6 es par\n",
      "evaluando 7 \n",
      " el nro: 7 es impar\n",
      "evaluando 8 \n",
      " el nro: 8 es par\n",
      "evaluando 9 \n",
      " el nro: 9 es impar\n",
      "evaluando 10 \n",
      " el nro: 10 es par\n",
      "evaluando 11 \n",
      " el nro: 11 es impar\n",
      "evaluando 12 \n",
      " el nro: 12 es par\n",
      "evaluando 13 \n",
      " el nro: 13 es impar\n",
      "evaluando 14 \n",
      " el nro: 14 es par\n",
      "evaluando 15 \n",
      " el nro: 15 es impar\n",
      "evaluando 16 \n",
      " el nro: 16 es par\n",
      "evaluando 17 \n",
      " el nro: 17 es impar\n",
      "evaluando 18 \n",
      " el nro: 18 es par\n",
      "evaluando 19 \n",
      " el nro: 19 es impar\n",
      "evaluando 20 \n",
      " el nro: 20 es par\n"
     ]
    }
   ],
   "source": [
    "for i in range (1,21):\n",
    "    if i % 2 == 0:\n",
    "        print(f'evaluando {i} \\n el nro: {i} es par')\n",
    "    else:\n",
    "        print(f'evaluando {i} \\n el nro: {i} es impar')"
   ]
  },
  {
   "attachments": {},
   "cell_type": "markdown",
   "metadata": {},
   "source": [
    "4) En un ciclo for mostrar para los valores entre 0 y 5 el resultado de elevarlo a la potencia igual a 3"
   ]
  },
  {
   "cell_type": "code",
   "execution_count": 10,
   "metadata": {},
   "outputs": [
    {
     "name": "stdout",
     "output_type": "stream",
     "text": [
      "la potencia de 0 a la 3 es: 0\n",
      "la potencia de 1 a la 3 es: 1\n",
      "la potencia de 2 a la 3 es: 8\n",
      "la potencia de 3 a la 3 es: 27\n",
      "la potencia de 4 a la 3 es: 64\n",
      "la potencia de 5 a la 3 es: 125\n"
     ]
    }
   ],
   "source": [
    "for i in range(0,6):\n",
    "    x = i ** 3\n",
    "    print(f'la potencia de {i} a la 3 es: {x}')"
   ]
  },
  {
   "attachments": {},
   "cell_type": "markdown",
   "metadata": {},
   "source": [
    "5) Crear una variable que contenga un número entero y realizar un ciclo for la misma cantidad de ciclos"
   ]
  },
  {
   "cell_type": "code",
   "execution_count": 11,
   "metadata": {},
   "outputs": [
    {
     "name": "stdout",
     "output_type": "stream",
     "text": [
      "0\n",
      "1\n",
      "2\n",
      "3\n",
      "4\n"
     ]
    }
   ],
   "source": [
    "x = 5\n",
    "\n",
    "for i in range(0,x):\n",
    "    print (i)"
   ]
  },
  {
   "attachments": {},
   "cell_type": "markdown",
   "metadata": {},
   "source": [
    "6) Utilizar un ciclo while para realizar el factorial de un número guardado en una variable, sólo si la variable contiene un número entero mayor a 0"
   ]
  },
  {
   "cell_type": "code",
   "execution_count": 19,
   "metadata": {},
   "outputs": [
    {
     "name": "stdout",
     "output_type": "stream",
     "text": [
      "El factorial es 120\n"
     ]
    }
   ],
   "source": [
    "x = 5\n",
    "if (type(x) == int):\n",
    "    if (x > 0):\n",
    "        factorial = x\n",
    "        while (x > 2):\n",
    "            x = x - 1\n",
    "            factorial = factorial * x\n",
    "        print('El factorial es', factorial)\n",
    "    else:\n",
    "        print('La variable no es mayor a cero')\n",
    "else:\n",
    "    print('La variable no es un entero')"
   ]
  },
  {
   "cell_type": "code",
   "execution_count": 31,
   "metadata": {},
   "outputs": [
    {
     "name": "stdout",
     "output_type": "stream",
     "text": [
      "El numero factorial de 6 es 720\n"
     ]
    }
   ],
   "source": [
    "import math\n",
    "\n",
    "numero = 6\n",
    "factorial = math.factorial(numero)\n",
    "print(f'El numero factorial de {numero} es {factorial}')"
   ]
  },
  {
   "attachments": {},
   "cell_type": "markdown",
   "metadata": {},
   "source": [
    "7) Crear un ciclo for dentro de un ciclo while"
   ]
  },
  {
   "cell_type": "code",
   "execution_count": 20,
   "metadata": {},
   "outputs": [
    {
     "name": "stdout",
     "output_type": "stream",
     "text": [
      "el bucle for se repite: 1\n",
      "el bucle for se repite: 2\n",
      "bucle while:  1\n",
      "el bucle for se repite: 1\n",
      "el bucle for se repite: 2\n",
      "bucle while:  2\n",
      "el bucle for se repite: 1\n",
      "el bucle for se repite: 2\n",
      "bucle while:  3\n",
      "el bucle for se repite: 1\n",
      "el bucle for se repite: 2\n",
      "bucle while:  4\n",
      "el bucle for se repite: 1\n",
      "el bucle for se repite: 2\n",
      "bucle while:  5\n",
      "el bucle for se repite: 1\n",
      "el bucle for se repite: 2\n",
      "bucle while:  6\n",
      "el bucle for se repite: 1\n",
      "el bucle for se repite: 2\n",
      "bucle while:  7\n",
      "el bucle for se repite: 1\n",
      "el bucle for se repite: 2\n",
      "bucle while:  8\n",
      "el bucle for se repite: 1\n",
      "el bucle for se repite: 2\n",
      "bucle while:  9\n",
      "el bucle for se repite: 1\n",
      "el bucle for se repite: 2\n",
      "bucle while:  10\n",
      "el bucle for se repite: 1\n",
      "el bucle for se repite: 2\n",
      "bucle while:  11\n",
      "el bucle for se repite: 1\n",
      "el bucle for se repite: 2\n",
      "bucle while:  12\n",
      "el bucle for se repite: 1\n",
      "el bucle for se repite: 2\n",
      "bucle while:  13\n",
      "el bucle for se repite: 1\n",
      "el bucle for se repite: 2\n",
      "bucle while:  14\n",
      "el bucle for se repite: 1\n",
      "el bucle for se repite: 2\n",
      "bucle while:  15\n",
      "el bucle for se repite: 1\n",
      "el bucle for se repite: 2\n",
      "bucle while:  16\n",
      "el bucle for se repite: 1\n",
      "el bucle for se repite: 2\n",
      "bucle while:  17\n",
      "el bucle for se repite: 1\n",
      "el bucle for se repite: 2\n",
      "bucle while:  18\n",
      "el bucle for se repite: 1\n",
      "el bucle for se repite: 2\n",
      "bucle while:  19\n",
      "el bucle for se repite: 1\n",
      "el bucle for se repite: 2\n",
      "bucle while:  20\n",
      "el bucle for se repite: 1\n",
      "el bucle for se repite: 2\n"
     ]
    }
   ],
   "source": [
    "x=0\n",
    "while (x<=20):\n",
    "    if x==20:\n",
    "        for n in range(1,3):\n",
    "            print(f'el bucle for se repite: {n}')\n",
    "        break\n",
    "    else:\n",
    "        for n in range(1,3):\n",
    "            print(f'el bucle for se repite: {n}')\n",
    "        x+=1\n",
    "    print('bucle while: ', x)\n",
    "     \n",
    "    "
   ]
  },
  {
   "attachments": {},
   "cell_type": "markdown",
   "metadata": {},
   "source": [
    "8) Crear un ciclo while dentro de un ciclo for"
   ]
  },
  {
   "cell_type": "code",
   "execution_count": 21,
   "metadata": {},
   "outputs": [
    {
     "name": "stdout",
     "output_type": "stream",
     "text": [
      "contador de bucle for: 1\n",
      "contador de bucle for: 2\n",
      "la condicion while se cumple con el numero 2\n",
      "contador de bucle for: 3\n",
      "contador de bucle for: 4\n",
      "la condicion while se cumple con el numero 4\n",
      "contador de bucle for: 5\n",
      "contador de bucle for: 6\n",
      "la condicion while se cumple con el numero 6\n",
      "contador de bucle for: 7\n",
      "contador de bucle for: 8\n",
      "la condicion while se cumple con el numero 8\n",
      "contador de bucle for: 9\n",
      "contador de bucle for: 10\n",
      "la condicion while se cumple con el numero 10\n",
      "contador de bucle for: 11\n",
      "contador de bucle for: 12\n",
      "la condicion while se cumple con el numero 12\n",
      "contador de bucle for: 13\n",
      "contador de bucle for: 14\n",
      "la condicion while se cumple con el numero 14\n",
      "contador de bucle for: 15\n",
      "contador de bucle for: 16\n",
      "la condicion while se cumple con el numero 16\n",
      "contador de bucle for: 17\n",
      "contador de bucle for: 18\n",
      "la condicion while se cumple con el numero 18\n",
      "contador de bucle for: 19\n"
     ]
    }
   ],
   "source": [
    "for i in range (1,20):\n",
    "    print('contador de bucle for:', i)\n",
    "    while i % 2 == 0:\n",
    "        print(f'la condicion while se cumple con el numero {i}')\n",
    "        break\n",
    "        "
   ]
  },
  {
   "attachments": {},
   "cell_type": "markdown",
   "metadata": {},
   "source": [
    "9) Imprimir los números primos existentes entre 0 y 30"
   ]
  },
  {
   "cell_type": "code",
   "execution_count": 22,
   "metadata": {},
   "outputs": [
    {
     "name": "stdout",
     "output_type": "stream",
     "text": [
      "2\n",
      "3\n",
      "5\n",
      "7\n",
      "11\n",
      "13\n",
      "17\n",
      "19\n",
      "23\n",
      "29\n",
      "proceso sin break:  52\n"
     ]
    }
   ],
   "source": [
    "contador_sin_break=0\n",
    "for numero in range(0, 31):  # Comenzamos desde 2, ya que 0 y 1 no son primos\n",
    "    condicion = True  # Suponemos que el número es primo\n",
    "\n",
    "    if numero <= 1:\n",
    "        condicion = False\n",
    "    else:\n",
    "        for divisor in range(0, numero):\n",
    "            if divisor >=2:\n",
    "                if numero % divisor == 0:\n",
    "                    condicion = False\n",
    "                    contador_sin_break+=1\n",
    "    if condicion:\n",
    "        print(numero)\n",
    "\n",
    "print('proceso sin break: ',contador_sin_break)"
   ]
  },
  {
   "attachments": {},
   "cell_type": "markdown",
   "metadata": {},
   "source": [
    "10) ¿Se puede mejorar el proceso del punto 9? Utilizar las sentencias break y/ó continue para tal fin"
   ]
  },
  {
   "cell_type": "code",
   "execution_count": 23,
   "metadata": {},
   "outputs": [
    {
     "name": "stdout",
     "output_type": "stream",
     "text": [
      "2\n",
      "3\n",
      "5\n",
      "7\n",
      "11\n",
      "13\n",
      "17\n",
      "19\n",
      "23\n",
      "29\n",
      "veces que se uso break:  19\n"
     ]
    }
   ],
   "source": [
    "# Claro al colocar el break se optimiza la veces que sigue el proceso aun cuando ya no nos sirve el procedimiento\n",
    "\n",
    "contador_de_break=0\n",
    "for numero in range(0, 31):  # Comenzamos desde 2, ya que 0 y 1 no son primos\n",
    "    condicion = True  # Suponemos que el número es primo\n",
    "\n",
    "    if numero <= 1:\n",
    "        condicion = False\n",
    "    else:\n",
    "        for divisor in range(0, numero):\n",
    "            if divisor >=2:\n",
    "                if numero % divisor == 0:\n",
    "                    condicion = False\n",
    "                    contador_de_break+=1\n",
    "                    break\n",
    "                    \n",
    "    if condicion:\n",
    "        print(numero)\n",
    "print('veces que se uso break: ', contador_de_break)"
   ]
  },
  {
   "attachments": {},
   "cell_type": "markdown",
   "metadata": {},
   "source": [
    "11) En los puntos 9 y 10, se diseño un código que encuentra números primos y además se lo optimizó. ¿Es posible saber en qué medida se optimizó?"
   ]
  },
  {
   "cell_type": "code",
   "execution_count": 24,
   "metadata": {},
   "outputs": [
    {
     "name": "stdout",
     "output_type": "stream",
     "text": [
      "el proceso fue optimizado en:  63.46153846153846 %\n"
     ]
    }
   ],
   "source": [
    "#Si para saber que tanto se optimizo lo que podemos añadir linea de un contador para saber cuanto fueron las veces del bucle for que se repitio de más\n",
    "#la medida que se optimizo mi codigo viene relacionada por el porcentaje de la veces en la que se dejó de usar el break.\n",
    "\n",
    "optimizado = ((contador_sin_break - contador_de_break ) / contador_sin_break) * 100\n",
    "print('el proceso fue optimizado en: ', optimizado,'%')"
   ]
  },
  {
   "attachments": {},
   "cell_type": "markdown",
   "metadata": {},
   "source": [
    "12) Aplicando continue, armar un ciclo while que solo imprima los valores divisibles por 12, dentro del rango de números de 100 a 300"
   ]
  },
  {
   "cell_type": "code",
   "execution_count": 25,
   "metadata": {},
   "outputs": [
    {
     "name": "stdout",
     "output_type": "stream",
     "text": [
      "108\n",
      "120\n",
      "132\n",
      "144\n",
      "156\n",
      "168\n",
      "180\n",
      "192\n",
      "204\n",
      "216\n",
      "228\n",
      "240\n",
      "252\n",
      "264\n",
      "276\n",
      "288\n",
      "300\n"
     ]
    }
   ],
   "source": [
    "numeros = 100\n",
    "while numeros<=300:\n",
    "    if numeros % 12 !=0:\n",
    "        numeros+=1\n",
    "        continue\n",
    "    print(numeros)\n",
    "    numeros+=1\n"
   ]
  },
  {
   "attachments": {},
   "cell_type": "markdown",
   "metadata": {},
   "source": [
    "13) Utilizar la función **input()** que permite hacer ingresos por teclado, para encontrar números primos y dar la opción al usario de buscar el siguiente"
   ]
  },
  {
   "cell_type": "code",
   "execution_count": 26,
   "metadata": {},
   "outputs": [
    {
     "name": "stdout",
     "output_type": "stream",
     "text": [
      "2\n",
      "3\n",
      "5\n",
      "7\n",
      "11\n",
      "13\n",
      "17\n",
      "19\n",
      "23\n",
      "29\n",
      "veces que se uso break:  19\n"
     ]
    }
   ],
   "source": [
    "contador_de_break=0\n",
    "for numero in range(0, 31):  # Comenzamos desde 2, ya que 0 y 1 no son primos\n",
    "    condicion = True  # Suponemos que el número es primo\n",
    "\n",
    "    if numero <= 1:\n",
    "        condicion = False\n",
    "    else:\n",
    "        for divisor in range(0, numero):\n",
    "            if divisor >=2:\n",
    "                if numero % divisor == 0:\n",
    "                    condicion = False\n",
    "                    contador_de_break+=1\n",
    "                    break\n",
    "                    \n",
    "    if condicion:\n",
    "        print(numero)\n",
    "print('veces que se uso break: ', contador_de_break)"
   ]
  },
  {
   "attachments": {},
   "cell_type": "markdown",
   "metadata": {},
   "source": [
    "14) Crear un ciclo while que encuentre dentro del rango de 100 a 300 el primer número divisible por 3 y además múltiplo de 6"
   ]
  },
  {
   "cell_type": "code",
   "execution_count": 27,
   "metadata": {},
   "outputs": [
    {
     "name": "stdout",
     "output_type": "stream",
     "text": [
      "102\n"
     ]
    }
   ],
   "source": [
    "numeros = 100\n",
    "while numeros<=300:\n",
    "    if numeros % 3 ==0 and numeros % 6 == 0:\n",
    "        print(numeros)\n",
    "        break\n",
    "    numeros +=1"
   ]
  }
 ],
 "metadata": {
  "interpreter": {
   "hash": "c85384e4cb51c8b72350f3a8712cc8351fdc3955e32a27f9b60c6242ab125f01"
  },
  "kernelspec": {
   "display_name": "Python 3 (ipykernel)",
   "language": "python",
   "name": "python3"
  },
  "language_info": {
   "codemirror_mode": {
    "name": "ipython",
    "version": 3
   },
   "file_extension": ".py",
   "mimetype": "text/x-python",
   "name": "python",
   "nbconvert_exporter": "python",
   "pygments_lexer": "ipython3",
   "version": "3.11.4"
  }
 },
 "nbformat": 4,
 "nbformat_minor": 4
}
